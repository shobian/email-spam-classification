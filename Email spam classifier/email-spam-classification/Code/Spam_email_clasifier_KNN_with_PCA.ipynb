{
 "cells": [
  {
   "cell_type": "markdown",
   "source": [
    "You are expected to perform a simple classification problem - that of labelling emails as\n",
    "spam or non-spam, based on their content in terms of words. The dataset has been taken\n",
    "from UCI Machine learning repository (https://archive.ics.uci.edu/ml/datasets/Spambase).\n",
    "This must be achieved using two machine learning models based on K Nearest Neighbors\n",
    "(KNN)"
   ],
   "metadata": {
    "collapsed": false
   }
  },
  {
   "cell_type": "code",
   "execution_count": 2,
   "metadata": {
    "collapsed": true
   },
   "outputs": [],
   "source": [
    "# import libraries\n",
    "import numpy as np\n",
    "import matplotlib.pyplot as plt\n",
    "import pandas as pd\n",
    "from matplotlib.colors import ListedColormap\n",
    "from sklearn import neighbors, datasets"
   ]
  },
  {
   "cell_type": "code",
   "execution_count": 3,
   "outputs": [
    {
     "data": {
      "text/plain": "         0  0.64  0.64.1  0.1  0.32   0.2   0.3   0.4   0.5   0.6  ...   0.41  \\\n0     0.21  0.28    0.50  0.0  0.14  0.28  0.21  0.07  0.00  0.94  ...  0.000   \n1     0.06  0.00    0.71  0.0  1.23  0.19  0.19  0.12  0.64  0.25  ...  0.010   \n2     0.00  0.00    0.00  0.0  0.63  0.00  0.31  0.63  0.31  0.63  ...  0.000   \n3     0.00  0.00    0.00  0.0  0.63  0.00  0.31  0.63  0.31  0.63  ...  0.000   \n4     0.00  0.00    0.00  0.0  1.85  0.00  0.00  1.85  0.00  0.00  ...  0.000   \n...    ...   ...     ...  ...   ...   ...   ...   ...   ...   ...  ...    ...   \n4595  0.31  0.00    0.62  0.0  0.00  0.31  0.00  0.00  0.00  0.00  ...  0.000   \n4596  0.00  0.00    0.00  0.0  0.00  0.00  0.00  0.00  0.00  0.00  ...  0.000   \n4597  0.30  0.00    0.30  0.0  0.00  0.00  0.00  0.00  0.00  0.00  ...  0.102   \n4598  0.96  0.00    0.00  0.0  0.32  0.00  0.00  0.00  0.00  0.00  ...  0.000   \n4599  0.00  0.00    0.65  0.0  0.00  0.00  0.00  0.00  0.00  0.00  ...  0.000   \n\n       0.42  0.43  0.778   0.44   0.45  3.756   61   278  1  \n0     0.132   0.0  0.372  0.180  0.048  5.114  101  1028  1  \n1     0.143   0.0  0.276  0.184  0.010  9.821  485  2259  1  \n2     0.137   0.0  0.137  0.000  0.000  3.537   40   191  1  \n3     0.135   0.0  0.135  0.000  0.000  3.537   40   191  1  \n4     0.223   0.0  0.000  0.000  0.000  3.000   15    54  1  \n...     ...   ...    ...    ...    ...    ...  ...   ... ..  \n4595  0.232   0.0  0.000  0.000  0.000  1.142    3    88  0  \n4596  0.000   0.0  0.353  0.000  0.000  1.555    4    14  0  \n4597  0.718   0.0  0.000  0.000  0.000  1.404    6   118  0  \n4598  0.057   0.0  0.000  0.000  0.000  1.147    5    78  0  \n4599  0.000   0.0  0.125  0.000  0.000  1.250    5    40  0  \n\n[4600 rows x 58 columns]",
      "text/html": "<div>\n<style scoped>\n    .dataframe tbody tr th:only-of-type {\n        vertical-align: middle;\n    }\n\n    .dataframe tbody tr th {\n        vertical-align: top;\n    }\n\n    .dataframe thead th {\n        text-align: right;\n    }\n</style>\n<table border=\"1\" class=\"dataframe\">\n  <thead>\n    <tr style=\"text-align: right;\">\n      <th></th>\n      <th>0</th>\n      <th>0.64</th>\n      <th>0.64.1</th>\n      <th>0.1</th>\n      <th>0.32</th>\n      <th>0.2</th>\n      <th>0.3</th>\n      <th>0.4</th>\n      <th>0.5</th>\n      <th>0.6</th>\n      <th>...</th>\n      <th>0.41</th>\n      <th>0.42</th>\n      <th>0.43</th>\n      <th>0.778</th>\n      <th>0.44</th>\n      <th>0.45</th>\n      <th>3.756</th>\n      <th>61</th>\n      <th>278</th>\n      <th>1</th>\n    </tr>\n  </thead>\n  <tbody>\n    <tr>\n      <th>0</th>\n      <td>0.21</td>\n      <td>0.28</td>\n      <td>0.50</td>\n      <td>0.0</td>\n      <td>0.14</td>\n      <td>0.28</td>\n      <td>0.21</td>\n      <td>0.07</td>\n      <td>0.00</td>\n      <td>0.94</td>\n      <td>...</td>\n      <td>0.000</td>\n      <td>0.132</td>\n      <td>0.0</td>\n      <td>0.372</td>\n      <td>0.180</td>\n      <td>0.048</td>\n      <td>5.114</td>\n      <td>101</td>\n      <td>1028</td>\n      <td>1</td>\n    </tr>\n    <tr>\n      <th>1</th>\n      <td>0.06</td>\n      <td>0.00</td>\n      <td>0.71</td>\n      <td>0.0</td>\n      <td>1.23</td>\n      <td>0.19</td>\n      <td>0.19</td>\n      <td>0.12</td>\n      <td>0.64</td>\n      <td>0.25</td>\n      <td>...</td>\n      <td>0.010</td>\n      <td>0.143</td>\n      <td>0.0</td>\n      <td>0.276</td>\n      <td>0.184</td>\n      <td>0.010</td>\n      <td>9.821</td>\n      <td>485</td>\n      <td>2259</td>\n      <td>1</td>\n    </tr>\n    <tr>\n      <th>2</th>\n      <td>0.00</td>\n      <td>0.00</td>\n      <td>0.00</td>\n      <td>0.0</td>\n      <td>0.63</td>\n      <td>0.00</td>\n      <td>0.31</td>\n      <td>0.63</td>\n      <td>0.31</td>\n      <td>0.63</td>\n      <td>...</td>\n      <td>0.000</td>\n      <td>0.137</td>\n      <td>0.0</td>\n      <td>0.137</td>\n      <td>0.000</td>\n      <td>0.000</td>\n      <td>3.537</td>\n      <td>40</td>\n      <td>191</td>\n      <td>1</td>\n    </tr>\n    <tr>\n      <th>3</th>\n      <td>0.00</td>\n      <td>0.00</td>\n      <td>0.00</td>\n      <td>0.0</td>\n      <td>0.63</td>\n      <td>0.00</td>\n      <td>0.31</td>\n      <td>0.63</td>\n      <td>0.31</td>\n      <td>0.63</td>\n      <td>...</td>\n      <td>0.000</td>\n      <td>0.135</td>\n      <td>0.0</td>\n      <td>0.135</td>\n      <td>0.000</td>\n      <td>0.000</td>\n      <td>3.537</td>\n      <td>40</td>\n      <td>191</td>\n      <td>1</td>\n    </tr>\n    <tr>\n      <th>4</th>\n      <td>0.00</td>\n      <td>0.00</td>\n      <td>0.00</td>\n      <td>0.0</td>\n      <td>1.85</td>\n      <td>0.00</td>\n      <td>0.00</td>\n      <td>1.85</td>\n      <td>0.00</td>\n      <td>0.00</td>\n      <td>...</td>\n      <td>0.000</td>\n      <td>0.223</td>\n      <td>0.0</td>\n      <td>0.000</td>\n      <td>0.000</td>\n      <td>0.000</td>\n      <td>3.000</td>\n      <td>15</td>\n      <td>54</td>\n      <td>1</td>\n    </tr>\n    <tr>\n      <th>...</th>\n      <td>...</td>\n      <td>...</td>\n      <td>...</td>\n      <td>...</td>\n      <td>...</td>\n      <td>...</td>\n      <td>...</td>\n      <td>...</td>\n      <td>...</td>\n      <td>...</td>\n      <td>...</td>\n      <td>...</td>\n      <td>...</td>\n      <td>...</td>\n      <td>...</td>\n      <td>...</td>\n      <td>...</td>\n      <td>...</td>\n      <td>...</td>\n      <td>...</td>\n      <td>...</td>\n    </tr>\n    <tr>\n      <th>4595</th>\n      <td>0.31</td>\n      <td>0.00</td>\n      <td>0.62</td>\n      <td>0.0</td>\n      <td>0.00</td>\n      <td>0.31</td>\n      <td>0.00</td>\n      <td>0.00</td>\n      <td>0.00</td>\n      <td>0.00</td>\n      <td>...</td>\n      <td>0.000</td>\n      <td>0.232</td>\n      <td>0.0</td>\n      <td>0.000</td>\n      <td>0.000</td>\n      <td>0.000</td>\n      <td>1.142</td>\n      <td>3</td>\n      <td>88</td>\n      <td>0</td>\n    </tr>\n    <tr>\n      <th>4596</th>\n      <td>0.00</td>\n      <td>0.00</td>\n      <td>0.00</td>\n      <td>0.0</td>\n      <td>0.00</td>\n      <td>0.00</td>\n      <td>0.00</td>\n      <td>0.00</td>\n      <td>0.00</td>\n      <td>0.00</td>\n      <td>...</td>\n      <td>0.000</td>\n      <td>0.000</td>\n      <td>0.0</td>\n      <td>0.353</td>\n      <td>0.000</td>\n      <td>0.000</td>\n      <td>1.555</td>\n      <td>4</td>\n      <td>14</td>\n      <td>0</td>\n    </tr>\n    <tr>\n      <th>4597</th>\n      <td>0.30</td>\n      <td>0.00</td>\n      <td>0.30</td>\n      <td>0.0</td>\n      <td>0.00</td>\n      <td>0.00</td>\n      <td>0.00</td>\n      <td>0.00</td>\n      <td>0.00</td>\n      <td>0.00</td>\n      <td>...</td>\n      <td>0.102</td>\n      <td>0.718</td>\n      <td>0.0</td>\n      <td>0.000</td>\n      <td>0.000</td>\n      <td>0.000</td>\n      <td>1.404</td>\n      <td>6</td>\n      <td>118</td>\n      <td>0</td>\n    </tr>\n    <tr>\n      <th>4598</th>\n      <td>0.96</td>\n      <td>0.00</td>\n      <td>0.00</td>\n      <td>0.0</td>\n      <td>0.32</td>\n      <td>0.00</td>\n      <td>0.00</td>\n      <td>0.00</td>\n      <td>0.00</td>\n      <td>0.00</td>\n      <td>...</td>\n      <td>0.000</td>\n      <td>0.057</td>\n      <td>0.0</td>\n      <td>0.000</td>\n      <td>0.000</td>\n      <td>0.000</td>\n      <td>1.147</td>\n      <td>5</td>\n      <td>78</td>\n      <td>0</td>\n    </tr>\n    <tr>\n      <th>4599</th>\n      <td>0.00</td>\n      <td>0.00</td>\n      <td>0.65</td>\n      <td>0.0</td>\n      <td>0.00</td>\n      <td>0.00</td>\n      <td>0.00</td>\n      <td>0.00</td>\n      <td>0.00</td>\n      <td>0.00</td>\n      <td>...</td>\n      <td>0.000</td>\n      <td>0.000</td>\n      <td>0.0</td>\n      <td>0.125</td>\n      <td>0.000</td>\n      <td>0.000</td>\n      <td>1.250</td>\n      <td>5</td>\n      <td>40</td>\n      <td>0</td>\n    </tr>\n  </tbody>\n</table>\n<p>4600 rows × 58 columns</p>\n</div>"
     },
     "execution_count": 3,
     "metadata": {},
     "output_type": "execute_result"
    }
   ],
   "source": [
    "#import dataset\n",
    "df = pd.read_csv(\"spambase.data\")\n",
    "df"
   ],
   "metadata": {
    "collapsed": false
   }
  },
  {
   "cell_type": "markdown",
   "source": [
    "Attribute Information:\n",
    "\n",
    "The last column of 'spambase.data' denotes whether the e-mail was considered spam (1) or not (0), i.e. unsolicited commercial e-mail. Most of the attributes indicate whether a particular word or character was frequently occuring in the e-mail. The run-length attributes (55-57) measure the length of sequences of consecutive capital letters. For the statistical measures of each attribute, see the end of this file. Here are the definitions of the attributes:\n",
    "\n",
    "48 continuous real [0,100] attributes of type word_freq_WORD\n",
    "= percentage of words in the e-mail that match WORD, i.e. 100 * (number of times the WORD appears in the e-mail) / total number of words in e-mail. A \"word\" in this case is any string of alphanumeric characters bounded by non-alphanumeric characters or end-of-string.\n",
    "\n",
    "6 continuous real [0,100] attributes of type char_freq_CHAR]\n",
    "= percentage of characters in the e-mail that match CHAR, i.e. 100 * (number of CHAR occurences) / total characters in e-mail\n",
    "\n",
    "1 continuous real [1,...] attribute of type capital_run_length_average\n",
    "= average length of uninterrupted sequences of capital letters\n",
    "\n",
    "1 continuous integer [1,...] attribute of type capital_run_length_longest\n",
    "= length of longest uninterrupted sequence of capital letters\n",
    "\n",
    "1 continuous integer [1,...] attribute of type capital_run_length_total\n",
    "= sum of length of uninterrupted sequences of capital letters\n",
    "= total number of capital letters in the e-mail\n",
    "\n",
    "1 nominal {0,1} class attribute of type spam\n",
    "= denotes whether the e-mail was considered spam (1) or not (0), i.e. unsolicited commercial e-mail.\n",
    "\n",
    "\n",
    "Summary\n",
    "The Spambase Data Set contains a collection of email messages, where each message is classified as either spam or non-spam (ham). The data set contains 4,601 instances and 57 attributes, which can be categorized into three groups:\n",
    "\n",
    "1) Word frequency features (48 attributes)\n",
    "    The first 48 attributes represent the percentage of words in the email that match a particular word or set of words. These attributes are based on alist of 3,870 commonly occurring words and characters in email messages. Each attribute corresponds to the frequency of occurrence of a particular word or set of words in the email message.\n",
    "\n",
    "2) Character frequency features (6 attributes)\n",
    "    The next six attributes represent the percentage of characters in the email that match a particular character or set of characters. These attributes are based on the same list of characters as the word frequency features.\n",
    "\n",
    "3) Other features (3 attributes)\n",
    "    The last three attributes represent other features of the email message, including the length of the longest uninterrupted sequence of capital letters, the total length of the email message, and the frequency of exclamation marks.\n",
    "\n",
    "The target variable is the class attribute, which is either 1 (spam) or 0 (non-spam)."
   ],
   "metadata": {
    "collapsed": false
   }
  },
  {
   "cell_type": "markdown",
   "source": [],
   "metadata": {
    "collapsed": false
   }
  },
  {
   "cell_type": "code",
   "execution_count": 4,
   "outputs": [
    {
     "data": {
      "text/plain": "(4600, 58)"
     },
     "execution_count": 4,
     "metadata": {},
     "output_type": "execute_result"
    }
   ],
   "source": [
    "#check number of rows and columns in dataset\n",
    "df.shape"
   ],
   "metadata": {
    "collapsed": false
   }
  },
  {
   "cell_type": "code",
   "execution_count": 5,
   "outputs": [
    {
     "name": "stdout",
     "output_type": "stream",
     "text": [
      "Number of duplicates:  391\n"
     ]
    }
   ],
   "source": [
    "duplicates = df.duplicated()\n",
    "num_duplicates = duplicates.sum()\n",
    "print(\"Number of duplicates: \", num_duplicates)"
   ],
   "metadata": {
    "collapsed": false
   }
  },
  {
   "cell_type": "code",
   "execution_count": 6,
   "outputs": [],
   "source": [
    "#droping all duplicates\n",
    "df.drop_duplicates(inplace=True)\n",
    "\n",
    "#droping all null values\n",
    "df.dropna(how='all', inplace=True)"
   ],
   "metadata": {
    "collapsed": false
   }
  },
  {
   "cell_type": "code",
   "execution_count": 7,
   "outputs": [
    {
     "name": "stdout",
     "output_type": "stream",
     "text": [
      "Number of rows after dropping duplicates:  4209\n"
     ]
    }
   ],
   "source": [
    "print(\"Number of rows after dropping duplicates: \", len(df))"
   ],
   "metadata": {
    "collapsed": false
   }
  },
  {
   "cell_type": "code",
   "execution_count": 8,
   "outputs": [
    {
     "name": "stdout",
     "output_type": "stream",
     "text": [
      "No. of spam emails 1678\n",
      "No. of non-spam emails 2531\n"
     ]
    }
   ],
   "source": [
    "#print all spam emails\n",
    "spam_data = df[df.iloc[:, -1] == 1].shape[0]\n",
    "print(\"No. of spam emails\", spam_data)\n",
    "\n",
    "non_spam_data = df[df.iloc[:, -1] == 0].shape[0]\n",
    "print(\"No. of non-spam emails\", non_spam_data)"
   ],
   "metadata": {
    "collapsed": false
   }
  },
  {
   "cell_type": "code",
   "execution_count": 9,
   "outputs": [
    {
     "data": {
      "text/plain": "         0  0.64  0.64.1  0.1  0.32   0.2   0.3   0.4   0.5   0.6  ...  0.40  \\\n0     0.21  0.28    0.50  0.0  0.14  0.28  0.21  0.07  0.00  0.94  ...   0.0   \n1     0.06  0.00    0.71  0.0  1.23  0.19  0.19  0.12  0.64  0.25  ...   0.0   \n2     0.00  0.00    0.00  0.0  0.63  0.00  0.31  0.63  0.31  0.63  ...   0.0   \n3     0.00  0.00    0.00  0.0  0.63  0.00  0.31  0.63  0.31  0.63  ...   0.0   \n4     0.00  0.00    0.00  0.0  1.85  0.00  0.00  1.85  0.00  0.00  ...   0.0   \n...    ...   ...     ...  ...   ...   ...   ...   ...   ...   ...  ...   ...   \n4595  0.31  0.00    0.62  0.0  0.00  0.31  0.00  0.00  0.00  0.00  ...   0.0   \n4596  0.00  0.00    0.00  0.0  0.00  0.00  0.00  0.00  0.00  0.00  ...   0.0   \n4597  0.30  0.00    0.30  0.0  0.00  0.00  0.00  0.00  0.00  0.00  ...   0.0   \n4598  0.96  0.00    0.00  0.0  0.32  0.00  0.00  0.00  0.00  0.00  ...   0.0   \n4599  0.00  0.00    0.65  0.0  0.00  0.00  0.00  0.00  0.00  0.00  ...   0.0   \n\n       0.41   0.42  0.43  0.778   0.44   0.45  3.756   61   278  \n0     0.000  0.132   0.0  0.372  0.180  0.048  5.114  101  1028  \n1     0.010  0.143   0.0  0.276  0.184  0.010  9.821  485  2259  \n2     0.000  0.137   0.0  0.137  0.000  0.000  3.537   40   191  \n3     0.000  0.135   0.0  0.135  0.000  0.000  3.537   40   191  \n4     0.000  0.223   0.0  0.000  0.000  0.000  3.000   15    54  \n...     ...    ...   ...    ...    ...    ...    ...  ...   ...  \n4595  0.000  0.232   0.0  0.000  0.000  0.000  1.142    3    88  \n4596  0.000  0.000   0.0  0.353  0.000  0.000  1.555    4    14  \n4597  0.102  0.718   0.0  0.000  0.000  0.000  1.404    6   118  \n4598  0.000  0.057   0.0  0.000  0.000  0.000  1.147    5    78  \n4599  0.000  0.000   0.0  0.125  0.000  0.000  1.250    5    40  \n\n[4209 rows x 57 columns]",
      "text/html": "<div>\n<style scoped>\n    .dataframe tbody tr th:only-of-type {\n        vertical-align: middle;\n    }\n\n    .dataframe tbody tr th {\n        vertical-align: top;\n    }\n\n    .dataframe thead th {\n        text-align: right;\n    }\n</style>\n<table border=\"1\" class=\"dataframe\">\n  <thead>\n    <tr style=\"text-align: right;\">\n      <th></th>\n      <th>0</th>\n      <th>0.64</th>\n      <th>0.64.1</th>\n      <th>0.1</th>\n      <th>0.32</th>\n      <th>0.2</th>\n      <th>0.3</th>\n      <th>0.4</th>\n      <th>0.5</th>\n      <th>0.6</th>\n      <th>...</th>\n      <th>0.40</th>\n      <th>0.41</th>\n      <th>0.42</th>\n      <th>0.43</th>\n      <th>0.778</th>\n      <th>0.44</th>\n      <th>0.45</th>\n      <th>3.756</th>\n      <th>61</th>\n      <th>278</th>\n    </tr>\n  </thead>\n  <tbody>\n    <tr>\n      <th>0</th>\n      <td>0.21</td>\n      <td>0.28</td>\n      <td>0.50</td>\n      <td>0.0</td>\n      <td>0.14</td>\n      <td>0.28</td>\n      <td>0.21</td>\n      <td>0.07</td>\n      <td>0.00</td>\n      <td>0.94</td>\n      <td>...</td>\n      <td>0.0</td>\n      <td>0.000</td>\n      <td>0.132</td>\n      <td>0.0</td>\n      <td>0.372</td>\n      <td>0.180</td>\n      <td>0.048</td>\n      <td>5.114</td>\n      <td>101</td>\n      <td>1028</td>\n    </tr>\n    <tr>\n      <th>1</th>\n      <td>0.06</td>\n      <td>0.00</td>\n      <td>0.71</td>\n      <td>0.0</td>\n      <td>1.23</td>\n      <td>0.19</td>\n      <td>0.19</td>\n      <td>0.12</td>\n      <td>0.64</td>\n      <td>0.25</td>\n      <td>...</td>\n      <td>0.0</td>\n      <td>0.010</td>\n      <td>0.143</td>\n      <td>0.0</td>\n      <td>0.276</td>\n      <td>0.184</td>\n      <td>0.010</td>\n      <td>9.821</td>\n      <td>485</td>\n      <td>2259</td>\n    </tr>\n    <tr>\n      <th>2</th>\n      <td>0.00</td>\n      <td>0.00</td>\n      <td>0.00</td>\n      <td>0.0</td>\n      <td>0.63</td>\n      <td>0.00</td>\n      <td>0.31</td>\n      <td>0.63</td>\n      <td>0.31</td>\n      <td>0.63</td>\n      <td>...</td>\n      <td>0.0</td>\n      <td>0.000</td>\n      <td>0.137</td>\n      <td>0.0</td>\n      <td>0.137</td>\n      <td>0.000</td>\n      <td>0.000</td>\n      <td>3.537</td>\n      <td>40</td>\n      <td>191</td>\n    </tr>\n    <tr>\n      <th>3</th>\n      <td>0.00</td>\n      <td>0.00</td>\n      <td>0.00</td>\n      <td>0.0</td>\n      <td>0.63</td>\n      <td>0.00</td>\n      <td>0.31</td>\n      <td>0.63</td>\n      <td>0.31</td>\n      <td>0.63</td>\n      <td>...</td>\n      <td>0.0</td>\n      <td>0.000</td>\n      <td>0.135</td>\n      <td>0.0</td>\n      <td>0.135</td>\n      <td>0.000</td>\n      <td>0.000</td>\n      <td>3.537</td>\n      <td>40</td>\n      <td>191</td>\n    </tr>\n    <tr>\n      <th>4</th>\n      <td>0.00</td>\n      <td>0.00</td>\n      <td>0.00</td>\n      <td>0.0</td>\n      <td>1.85</td>\n      <td>0.00</td>\n      <td>0.00</td>\n      <td>1.85</td>\n      <td>0.00</td>\n      <td>0.00</td>\n      <td>...</td>\n      <td>0.0</td>\n      <td>0.000</td>\n      <td>0.223</td>\n      <td>0.0</td>\n      <td>0.000</td>\n      <td>0.000</td>\n      <td>0.000</td>\n      <td>3.000</td>\n      <td>15</td>\n      <td>54</td>\n    </tr>\n    <tr>\n      <th>...</th>\n      <td>...</td>\n      <td>...</td>\n      <td>...</td>\n      <td>...</td>\n      <td>...</td>\n      <td>...</td>\n      <td>...</td>\n      <td>...</td>\n      <td>...</td>\n      <td>...</td>\n      <td>...</td>\n      <td>...</td>\n      <td>...</td>\n      <td>...</td>\n      <td>...</td>\n      <td>...</td>\n      <td>...</td>\n      <td>...</td>\n      <td>...</td>\n      <td>...</td>\n      <td>...</td>\n    </tr>\n    <tr>\n      <th>4595</th>\n      <td>0.31</td>\n      <td>0.00</td>\n      <td>0.62</td>\n      <td>0.0</td>\n      <td>0.00</td>\n      <td>0.31</td>\n      <td>0.00</td>\n      <td>0.00</td>\n      <td>0.00</td>\n      <td>0.00</td>\n      <td>...</td>\n      <td>0.0</td>\n      <td>0.000</td>\n      <td>0.232</td>\n      <td>0.0</td>\n      <td>0.000</td>\n      <td>0.000</td>\n      <td>0.000</td>\n      <td>1.142</td>\n      <td>3</td>\n      <td>88</td>\n    </tr>\n    <tr>\n      <th>4596</th>\n      <td>0.00</td>\n      <td>0.00</td>\n      <td>0.00</td>\n      <td>0.0</td>\n      <td>0.00</td>\n      <td>0.00</td>\n      <td>0.00</td>\n      <td>0.00</td>\n      <td>0.00</td>\n      <td>0.00</td>\n      <td>...</td>\n      <td>0.0</td>\n      <td>0.000</td>\n      <td>0.000</td>\n      <td>0.0</td>\n      <td>0.353</td>\n      <td>0.000</td>\n      <td>0.000</td>\n      <td>1.555</td>\n      <td>4</td>\n      <td>14</td>\n    </tr>\n    <tr>\n      <th>4597</th>\n      <td>0.30</td>\n      <td>0.00</td>\n      <td>0.30</td>\n      <td>0.0</td>\n      <td>0.00</td>\n      <td>0.00</td>\n      <td>0.00</td>\n      <td>0.00</td>\n      <td>0.00</td>\n      <td>0.00</td>\n      <td>...</td>\n      <td>0.0</td>\n      <td>0.102</td>\n      <td>0.718</td>\n      <td>0.0</td>\n      <td>0.000</td>\n      <td>0.000</td>\n      <td>0.000</td>\n      <td>1.404</td>\n      <td>6</td>\n      <td>118</td>\n    </tr>\n    <tr>\n      <th>4598</th>\n      <td>0.96</td>\n      <td>0.00</td>\n      <td>0.00</td>\n      <td>0.0</td>\n      <td>0.32</td>\n      <td>0.00</td>\n      <td>0.00</td>\n      <td>0.00</td>\n      <td>0.00</td>\n      <td>0.00</td>\n      <td>...</td>\n      <td>0.0</td>\n      <td>0.000</td>\n      <td>0.057</td>\n      <td>0.0</td>\n      <td>0.000</td>\n      <td>0.000</td>\n      <td>0.000</td>\n      <td>1.147</td>\n      <td>5</td>\n      <td>78</td>\n    </tr>\n    <tr>\n      <th>4599</th>\n      <td>0.00</td>\n      <td>0.00</td>\n      <td>0.65</td>\n      <td>0.0</td>\n      <td>0.00</td>\n      <td>0.00</td>\n      <td>0.00</td>\n      <td>0.00</td>\n      <td>0.00</td>\n      <td>0.00</td>\n      <td>...</td>\n      <td>0.0</td>\n      <td>0.000</td>\n      <td>0.000</td>\n      <td>0.0</td>\n      <td>0.125</td>\n      <td>0.000</td>\n      <td>0.000</td>\n      <td>1.250</td>\n      <td>5</td>\n      <td>40</td>\n    </tr>\n  </tbody>\n</table>\n<p>4209 rows × 57 columns</p>\n</div>"
     },
     "execution_count": 9,
     "metadata": {},
     "output_type": "execute_result"
    }
   ],
   "source": [
    "y = df.iloc[:, -1] # last column as target variable\n",
    "df= df.drop(\"1\", axis=\"columns\")\n",
    "df"
   ],
   "metadata": {
    "collapsed": false
   }
  },
  {
   "cell_type": "code",
   "execution_count": 10,
   "outputs": [
    {
     "name": "stdout",
     "output_type": "stream",
     "text": [
      "Column names after renaming:  Index(['word_freq_make', 'word_freq_address', 'word_freq_all', 'word_freq_3d',\n",
      "       'word_freq_our', 'word_freq_over', 'word_freq_remove',\n",
      "       'word_freq_internet', 'word_freq_order', 'word_freq_mail',\n",
      "       'word_freq_receive', 'word_freq_will', 'word_freq_people',\n",
      "       'word_freq_report', 'word_freq_addresses', 'word_freq_free',\n",
      "       'word_freq_business', 'word_freq_email', 'word_freq_you',\n",
      "       'word_freq_credit', 'word_freq_your', 'word_freq_font', 'word_freq_000',\n",
      "       'word_freq_money', 'word_freq_hp', 'word_freq_hpl', 'word_freq_george',\n",
      "       'word_freq_650', 'word_freq_lab', 'word_freq_labs', 'word_freq_telnet',\n",
      "       'word_freq_857', 'word_freq_data', 'word_freq_415', 'word_freq_85',\n",
      "       'word_freq_technology', 'word_freq_1999', 'word_freq_parts',\n",
      "       'word_freq_pm', 'word_freq_direct', 'word_freq_cs', 'word_freq_meeting',\n",
      "       'word_freq_original', 'word_freq_project', 'word_freq_re',\n",
      "       'word_freq_edu', 'word_freq_table', 'word_freq_conference',\n",
      "       'char_freq_;', 'char_freq_(', 'char_freq_[', 'char_freq_!',\n",
      "       'char_freq_$', 'char_freq_#', 'capital_run_length_average',\n",
      "       'capital_run_length_longest', 'capital_run_length_total'],\n",
      "      dtype='object')\n"
     ]
    }
   ],
   "source": [
    "column_names = [\"word_freq_make\",\n",
    "                \"word_freq_address\",\n",
    "                \"word_freq_all\",\n",
    "                \"word_freq_3d\",\n",
    "                \"word_freq_our\",\n",
    "                \"word_freq_over\",\n",
    "                \"word_freq_remove\",\n",
    "                \"word_freq_internet\",\n",
    "                \"word_freq_order\",\n",
    "                \"word_freq_mail\",\n",
    "                \"word_freq_receive\",\n",
    "                \"word_freq_will\",\n",
    "                \"word_freq_people\",\n",
    "                \"word_freq_report\",\n",
    "                \"word_freq_addresses\",\n",
    "               \"word_freq_free\",\n",
    "                \"word_freq_business\",\n",
    "                \"word_freq_email\",\n",
    "                \"word_freq_you\",\n",
    "                \"word_freq_credit\",\n",
    "                \"word_freq_your\",\n",
    "                \"word_freq_font\",\n",
    "                \"word_freq_000\",\n",
    "                \"word_freq_money\",\n",
    "                \"word_freq_hp\",\n",
    "                \"word_freq_hpl\",\n",
    "                \"word_freq_george\",\n",
    "                \"word_freq_650\",\n",
    "                \"word_freq_lab\",\n",
    "                \"word_freq_labs\", \"word_freq_telnet\",\"word_freq_857\",  \"word_freq_data\", \"word_freq_415\",\"word_freq_85\", 'word_freq_technology', \"word_freq_1999\",\"word_freq_parts\",\"word_freq_pm\",\"word_freq_direct\",\"word_freq_cs\",\"word_freq_meeting\",\"word_freq_original\",\"word_freq_project\",\"word_freq_re\",\"word_freq_edu\", \"word_freq_table\",\"word_freq_conference\",\"char_freq_;\",\"char_freq_(\",\"char_freq_[\",\"char_freq_!\",\"char_freq_$\",\"char_freq_#\",\"capital_run_length_average\",\"capital_run_length_longest\",\"capital_run_length_total\" ]\n",
    "\n",
    "df.columns = column_names\n",
    "print(\"Column names after renaming: \", df.columns)"
   ],
   "metadata": {
    "collapsed": false
   }
  },
  {
   "cell_type": "markdown",
   "source": [
    "# PCA"
   ],
   "metadata": {
    "collapsed": false
   }
  },
  {
   "cell_type": "markdown",
   "source": [
    "We’ll go ahead and standardise this data as all the data is on a different scale."
   ],
   "metadata": {
    "collapsed": false
   }
  },
  {
   "cell_type": "code",
   "execution_count": 11,
   "outputs": [],
   "source": [
    "from sklearn.preprocessing import StandardScaler\n",
    "\n",
    "scaler=StandardScaler()\n",
    "scaled_data=scaler.fit_transform(df)\n"
   ],
   "metadata": {
    "collapsed": false
   }
  },
  {
   "cell_type": "code",
   "execution_count": 12,
   "outputs": [],
   "source": [
    "scaled_df=pd.DataFrame(data=scaled_data, columns= df.columns)"
   ],
   "metadata": {
    "collapsed": false
   }
  },
  {
   "cell_type": "code",
   "execution_count": 13,
   "outputs": [
    {
     "data": {
      "text/plain": "       word_freq_make  word_freq_address  word_freq_all  word_freq_3d  \\\ncount    4.209000e+03       4.209000e+03   4.209000e+03  4.209000e+03   \nmean     4.369805e-15       1.983380e-15   1.451599e-15 -1.379668e-16   \nstd      1.000119e+00       1.000119e+00   1.000119e+00  1.000119e+00   \nmin     -3.479680e-01      -2.477619e-01  -5.650479e-01 -4.664991e-02   \n25%     -3.479680e-01      -2.477619e-01  -5.650479e-01 -4.664991e-02   \n50%     -3.479680e-01      -2.477619e-01  -5.650479e-01 -4.664991e-02   \n75%     -3.479680e-01      -2.477619e-01   2.881769e-01 -4.664991e-02   \nmax      1.478534e+01       3.119301e+01   9.324604e+00  3.160616e+01   \n\n       word_freq_our  word_freq_over  word_freq_remove  word_freq_internet  \\\ncount   4.209000e+03    4.209000e+03      4.209000e+03        4.209000e+03   \nmean   -3.749964e-15    3.194113e-15      1.266633e-14       -3.066421e-15   \nstd     1.000119e+00    1.000119e+00      1.000119e+00        1.000119e+00   \nmin    -4.729856e-01   -3.502513e-01     -2.957690e-01       -2.632980e-01   \n25%    -4.729856e-01   -3.502513e-01     -2.957690e-01       -2.632980e-01   \n50%    -4.729856e-01   -3.502513e-01     -2.957690e-01       -2.632980e-01   \n75%     1.231135e-01   -3.502513e-01     -2.957690e-01       -2.632980e-01   \nmax     1.406601e+01    2.095207e+01      1.800369e+01        2.681583e+01   \n\n       word_freq_order  word_freq_mail  ...  word_freq_conference  \\\ncount     4.209000e+03    4.209000e+03  ...          4.209000e+03   \nmean     -4.465713e-15    3.037696e-15  ...         -1.912550e-15   \nstd       1.000119e+00    1.000119e+00  ...          1.000119e+00   \nmin      -3.256596e-01   -3.784178e-01  ...         -1.164211e-01   \n25%      -3.256596e-01   -3.784178e-01  ...         -1.164211e-01   \n50%      -3.256596e-01   -3.784178e-01  ...         -1.164211e-01   \n75%      -3.256596e-01   -8.906033e-02  ...         -1.164211e-01   \nmax       1.831755e+01    2.730852e+01  ...          3.338210e+01   \n\n        char_freq_;   char_freq_(   char_freq_[   char_freq_!   char_freq_$  \\\ncount  4.209000e+03  4.209000e+03  4.209000e+03  4.209000e+03  4.209000e+03   \nmean   4.391975e-15 -8.901303e-16 -9.937538e-16 -2.599937e-15 -4.821306e-15   \nstd    1.000119e+00  1.000119e+00  1.000119e+00  1.000119e+00  1.000119e+00   \nmin   -1.600299e-01 -5.253738e-01 -1.643841e-01 -3.332409e-01 -3.173668e-01   \n25%   -1.600299e-01 -5.253738e-01 -1.643841e-01 -3.332409e-01 -3.173668e-01   \n50%   -1.600299e-01 -2.591909e-01 -1.643841e-01 -3.142675e-01 -3.173668e-01   \n75%   -1.600299e-01  1.820165e-01 -1.643841e-01  5.927098e-02 -9.626226e-02   \nmax    1.720410e+01  3.503375e+01  3.843384e+01  3.818036e+01  2.472585e+01   \n\n        char_freq_#  capital_run_length_average  capital_run_length_longest  \\\ncount  4.209000e+03                4.209000e+03                4.209000e+03   \nmean   7.586788e-17               -3.956109e-16                5.622993e-16   \nstd    1.000119e+00                1.000119e+00                1.000119e+00   \nmin   -1.050837e-01               -1.322665e-01               -2.562244e-01   \n25%   -1.050837e-01               -1.133509e-01               -2.261615e-01   \n50%   -1.050837e-01               -9.313814e-02               -1.860778e-01   \n75%   -1.050837e-01               -5.063097e-02               -4.077419e-02   \nmax    4.538220e+01                3.309814e+01                4.978834e+01   \n\n       capital_run_length_total  \ncount              4.209000e+03  \nmean               7.309166e-17  \nstd                1.000119e+00  \nmin               -4.690582e-01  \n25%               -4.060182e-01  \n50%               -3.074171e-01  \n75%               -2.939455e-02  \nmax                2.513488e+01  \n\n[8 rows x 57 columns]",
      "text/html": "<div>\n<style scoped>\n    .dataframe tbody tr th:only-of-type {\n        vertical-align: middle;\n    }\n\n    .dataframe tbody tr th {\n        vertical-align: top;\n    }\n\n    .dataframe thead th {\n        text-align: right;\n    }\n</style>\n<table border=\"1\" class=\"dataframe\">\n  <thead>\n    <tr style=\"text-align: right;\">\n      <th></th>\n      <th>word_freq_make</th>\n      <th>word_freq_address</th>\n      <th>word_freq_all</th>\n      <th>word_freq_3d</th>\n      <th>word_freq_our</th>\n      <th>word_freq_over</th>\n      <th>word_freq_remove</th>\n      <th>word_freq_internet</th>\n      <th>word_freq_order</th>\n      <th>word_freq_mail</th>\n      <th>...</th>\n      <th>word_freq_conference</th>\n      <th>char_freq_;</th>\n      <th>char_freq_(</th>\n      <th>char_freq_[</th>\n      <th>char_freq_!</th>\n      <th>char_freq_$</th>\n      <th>char_freq_#</th>\n      <th>capital_run_length_average</th>\n      <th>capital_run_length_longest</th>\n      <th>capital_run_length_total</th>\n    </tr>\n  </thead>\n  <tbody>\n    <tr>\n      <th>count</th>\n      <td>4.209000e+03</td>\n      <td>4.209000e+03</td>\n      <td>4.209000e+03</td>\n      <td>4.209000e+03</td>\n      <td>4.209000e+03</td>\n      <td>4.209000e+03</td>\n      <td>4.209000e+03</td>\n      <td>4.209000e+03</td>\n      <td>4.209000e+03</td>\n      <td>4.209000e+03</td>\n      <td>...</td>\n      <td>4.209000e+03</td>\n      <td>4.209000e+03</td>\n      <td>4.209000e+03</td>\n      <td>4.209000e+03</td>\n      <td>4.209000e+03</td>\n      <td>4.209000e+03</td>\n      <td>4.209000e+03</td>\n      <td>4.209000e+03</td>\n      <td>4.209000e+03</td>\n      <td>4.209000e+03</td>\n    </tr>\n    <tr>\n      <th>mean</th>\n      <td>4.369805e-15</td>\n      <td>1.983380e-15</td>\n      <td>1.451599e-15</td>\n      <td>-1.379668e-16</td>\n      <td>-3.749964e-15</td>\n      <td>3.194113e-15</td>\n      <td>1.266633e-14</td>\n      <td>-3.066421e-15</td>\n      <td>-4.465713e-15</td>\n      <td>3.037696e-15</td>\n      <td>...</td>\n      <td>-1.912550e-15</td>\n      <td>4.391975e-15</td>\n      <td>-8.901303e-16</td>\n      <td>-9.937538e-16</td>\n      <td>-2.599937e-15</td>\n      <td>-4.821306e-15</td>\n      <td>7.586788e-17</td>\n      <td>-3.956109e-16</td>\n      <td>5.622993e-16</td>\n      <td>7.309166e-17</td>\n    </tr>\n    <tr>\n      <th>std</th>\n      <td>1.000119e+00</td>\n      <td>1.000119e+00</td>\n      <td>1.000119e+00</td>\n      <td>1.000119e+00</td>\n      <td>1.000119e+00</td>\n      <td>1.000119e+00</td>\n      <td>1.000119e+00</td>\n      <td>1.000119e+00</td>\n      <td>1.000119e+00</td>\n      <td>1.000119e+00</td>\n      <td>...</td>\n      <td>1.000119e+00</td>\n      <td>1.000119e+00</td>\n      <td>1.000119e+00</td>\n      <td>1.000119e+00</td>\n      <td>1.000119e+00</td>\n      <td>1.000119e+00</td>\n      <td>1.000119e+00</td>\n      <td>1.000119e+00</td>\n      <td>1.000119e+00</td>\n      <td>1.000119e+00</td>\n    </tr>\n    <tr>\n      <th>min</th>\n      <td>-3.479680e-01</td>\n      <td>-2.477619e-01</td>\n      <td>-5.650479e-01</td>\n      <td>-4.664991e-02</td>\n      <td>-4.729856e-01</td>\n      <td>-3.502513e-01</td>\n      <td>-2.957690e-01</td>\n      <td>-2.632980e-01</td>\n      <td>-3.256596e-01</td>\n      <td>-3.784178e-01</td>\n      <td>...</td>\n      <td>-1.164211e-01</td>\n      <td>-1.600299e-01</td>\n      <td>-5.253738e-01</td>\n      <td>-1.643841e-01</td>\n      <td>-3.332409e-01</td>\n      <td>-3.173668e-01</td>\n      <td>-1.050837e-01</td>\n      <td>-1.322665e-01</td>\n      <td>-2.562244e-01</td>\n      <td>-4.690582e-01</td>\n    </tr>\n    <tr>\n      <th>25%</th>\n      <td>-3.479680e-01</td>\n      <td>-2.477619e-01</td>\n      <td>-5.650479e-01</td>\n      <td>-4.664991e-02</td>\n      <td>-4.729856e-01</td>\n      <td>-3.502513e-01</td>\n      <td>-2.957690e-01</td>\n      <td>-2.632980e-01</td>\n      <td>-3.256596e-01</td>\n      <td>-3.784178e-01</td>\n      <td>...</td>\n      <td>-1.164211e-01</td>\n      <td>-1.600299e-01</td>\n      <td>-5.253738e-01</td>\n      <td>-1.643841e-01</td>\n      <td>-3.332409e-01</td>\n      <td>-3.173668e-01</td>\n      <td>-1.050837e-01</td>\n      <td>-1.133509e-01</td>\n      <td>-2.261615e-01</td>\n      <td>-4.060182e-01</td>\n    </tr>\n    <tr>\n      <th>50%</th>\n      <td>-3.479680e-01</td>\n      <td>-2.477619e-01</td>\n      <td>-5.650479e-01</td>\n      <td>-4.664991e-02</td>\n      <td>-4.729856e-01</td>\n      <td>-3.502513e-01</td>\n      <td>-2.957690e-01</td>\n      <td>-2.632980e-01</td>\n      <td>-3.256596e-01</td>\n      <td>-3.784178e-01</td>\n      <td>...</td>\n      <td>-1.164211e-01</td>\n      <td>-1.600299e-01</td>\n      <td>-2.591909e-01</td>\n      <td>-1.643841e-01</td>\n      <td>-3.142675e-01</td>\n      <td>-3.173668e-01</td>\n      <td>-1.050837e-01</td>\n      <td>-9.313814e-02</td>\n      <td>-1.860778e-01</td>\n      <td>-3.074171e-01</td>\n    </tr>\n    <tr>\n      <th>75%</th>\n      <td>-3.479680e-01</td>\n      <td>-2.477619e-01</td>\n      <td>2.881769e-01</td>\n      <td>-4.664991e-02</td>\n      <td>1.231135e-01</td>\n      <td>-3.502513e-01</td>\n      <td>-2.957690e-01</td>\n      <td>-2.632980e-01</td>\n      <td>-3.256596e-01</td>\n      <td>-8.906033e-02</td>\n      <td>...</td>\n      <td>-1.164211e-01</td>\n      <td>-1.600299e-01</td>\n      <td>1.820165e-01</td>\n      <td>-1.643841e-01</td>\n      <td>5.927098e-02</td>\n      <td>-9.626226e-02</td>\n      <td>-1.050837e-01</td>\n      <td>-5.063097e-02</td>\n      <td>-4.077419e-02</td>\n      <td>-2.939455e-02</td>\n    </tr>\n    <tr>\n      <th>max</th>\n      <td>1.478534e+01</td>\n      <td>3.119301e+01</td>\n      <td>9.324604e+00</td>\n      <td>3.160616e+01</td>\n      <td>1.406601e+01</td>\n      <td>2.095207e+01</td>\n      <td>1.800369e+01</td>\n      <td>2.681583e+01</td>\n      <td>1.831755e+01</td>\n      <td>2.730852e+01</td>\n      <td>...</td>\n      <td>3.338210e+01</td>\n      <td>1.720410e+01</td>\n      <td>3.503375e+01</td>\n      <td>3.843384e+01</td>\n      <td>3.818036e+01</td>\n      <td>2.472585e+01</td>\n      <td>4.538220e+01</td>\n      <td>3.309814e+01</td>\n      <td>4.978834e+01</td>\n      <td>2.513488e+01</td>\n    </tr>\n  </tbody>\n</table>\n<p>8 rows × 57 columns</p>\n</div>"
     },
     "execution_count": 13,
     "metadata": {},
     "output_type": "execute_result"
    }
   ],
   "source": [
    "scaled_df.describe()"
   ],
   "metadata": {
    "collapsed": false
   }
  },
  {
   "cell_type": "markdown",
   "source": [
    "PCA component starting"
   ],
   "metadata": {
    "collapsed": false
   }
  },
  {
   "cell_type": "code",
   "execution_count": 14,
   "outputs": [],
   "source": [
    "from sklearn.decomposition import PCA\n",
    "pca = PCA(n_components = 4)\n",
    "new_data = pca.fit_transform(scaled_df)"
   ],
   "metadata": {
    "collapsed": false
   }
  },
  {
   "cell_type": "code",
   "execution_count": 25,
   "outputs": [],
   "source": [
    "# This will be the new data fed to the algorithm.\n",
    "principal_Df = pd.DataFrame(data = new_data\n",
    "                            , columns = ['PC1', 'PC2','PC3','PC4'])"
   ],
   "metadata": {
    "collapsed": false
   }
  },
  {
   "cell_type": "code",
   "execution_count": 26,
   "outputs": [
    {
     "data": {
      "text/plain": "        PC1       PC2       PC3       PC4\n0 -1.293656  2.006099  0.074478 -0.422377\n1 -1.612845  4.822331  3.127122 -1.179106\n2 -0.857357  0.413698 -0.549397 -0.007296\n3 -0.858210  0.413031 -0.551523 -0.007574\n4 -0.496909 -0.506171 -0.351299  0.435057",
      "text/html": "<div>\n<style scoped>\n    .dataframe tbody tr th:only-of-type {\n        vertical-align: middle;\n    }\n\n    .dataframe tbody tr th {\n        vertical-align: top;\n    }\n\n    .dataframe thead th {\n        text-align: right;\n    }\n</style>\n<table border=\"1\" class=\"dataframe\">\n  <thead>\n    <tr style=\"text-align: right;\">\n      <th></th>\n      <th>PC1</th>\n      <th>PC2</th>\n      <th>PC3</th>\n      <th>PC4</th>\n    </tr>\n  </thead>\n  <tbody>\n    <tr>\n      <th>0</th>\n      <td>-1.293656</td>\n      <td>2.006099</td>\n      <td>0.074478</td>\n      <td>-0.422377</td>\n    </tr>\n    <tr>\n      <th>1</th>\n      <td>-1.612845</td>\n      <td>4.822331</td>\n      <td>3.127122</td>\n      <td>-1.179106</td>\n    </tr>\n    <tr>\n      <th>2</th>\n      <td>-0.857357</td>\n      <td>0.413698</td>\n      <td>-0.549397</td>\n      <td>-0.007296</td>\n    </tr>\n    <tr>\n      <th>3</th>\n      <td>-0.858210</td>\n      <td>0.413031</td>\n      <td>-0.551523</td>\n      <td>-0.007574</td>\n    </tr>\n    <tr>\n      <th>4</th>\n      <td>-0.496909</td>\n      <td>-0.506171</td>\n      <td>-0.351299</td>\n      <td>0.435057</td>\n    </tr>\n  </tbody>\n</table>\n</div>"
     },
     "execution_count": 26,
     "metadata": {},
     "output_type": "execute_result"
    }
   ],
   "source": [
    "principal_Df.head()"
   ],
   "metadata": {
    "collapsed": false
   }
  },
  {
   "cell_type": "code",
   "execution_count": 27,
   "outputs": [
    {
     "data": {
      "text/plain": "<Figure size 640x480 with 1 Axes>",
      "image/png": "[encoded data removed]"
     },
     "metadata": {},
     "output_type": "display_data"
    }
   ],
   "source": [
    "\n",
    "principalComponents = pca.fit_transform(principal_Df)\n",
    "plt.figure()\n",
    "plt.plot(np.cumsum(pca.explained_variance_ratio_))\n",
    "plt.xlabel('Number of Components')\n",
    "plt.ylabel('Variance (%)') #for each component\n",
    "plt.title('Explained Variance')\n",
    "plt.show()"
   ],
   "metadata": {
    "collapsed": false
   }
  },
  {
   "cell_type": "code",
   "execution_count": 28,
   "outputs": [
    {
     "name": "stdout",
     "output_type": "stream",
     "text": [
      "(4209, 57)\n",
      "(4209, 57)\n",
      "(4209, 4)\n"
     ]
    }
   ],
   "source": [
    "print(df.shape)\n",
    "print(scaled_df.shape)\n",
    "print(principal_Df.shape)"
   ],
   "metadata": {
    "collapsed": false
   }
  },
  {
   "cell_type": "markdown",
   "source": [
    "Train Test Split"
   ],
   "metadata": {
    "collapsed": false
   }
  },
  {
   "cell_type": "code",
   "execution_count": 29,
   "outputs": [],
   "source": [
    "from sklearn.model_selection import train_test_split"
   ],
   "metadata": {
    "collapsed": false
   }
  },
  {
   "cell_type": "code",
   "execution_count": 32,
   "outputs": [],
   "source": [
    "X = principal_Df  # Features (all columns)\n"
   ],
   "metadata": {
    "collapsed": false
   }
  },
  {
   "cell_type": "code",
   "execution_count": 33,
   "outputs": [],
   "source": [
    "X_train, X_test, y_train, y_test = train_test_split(X, y, test_size=0.25, random_state=42)"
   ],
   "metadata": {
    "collapsed": false
   }
  },
  {
   "cell_type": "code",
   "execution_count": 34,
   "outputs": [
    {
     "name": "stdout",
     "output_type": "stream",
     "text": [
      "Training subset shape: (3156, 4) (3156,)\n",
      "Testing subset shape: (1053, 4) (1053,)\n"
     ]
    }
   ],
   "source": [
    "# Print the shapes of the resulting subsets\n",
    "print(\"Training subset shape:\", X_train.shape, y_train.shape)\n",
    "print(\"Testing subset shape:\", X_test.shape, y_test.shape)"
   ],
   "metadata": {
    "collapsed": false
   }
  },
  {
   "cell_type": "markdown",
   "source": [
    "KNN - KNN Classifier"
   ],
   "metadata": {
    "collapsed": false
   }
  },
  {
   "cell_type": "code",
   "execution_count": 47,
   "outputs": [
    {
     "data": {
      "text/plain": "KNeighborsClassifier(n_neighbors=4)"
     },
     "execution_count": 47,
     "metadata": {},
     "output_type": "execute_result"
    }
   ],
   "source": [
    "from sklearn.neighbors import KNeighborsClassifier\n",
    "\n",
    "knn = KNeighborsClassifier(n_neighbors= 4)\n",
    "knn.fit(X_train,y_train)"
   ],
   "metadata": {
    "collapsed": false
   }
  },
  {
   "cell_type": "code",
   "execution_count": 48,
   "outputs": [
    {
     "name": "stderr",
     "output_type": "stream",
     "text": [
      "C:\\ProgramData\\Anaconda3\\lib\\site-packages\\sklearn\\neighbors\\_classification.py:228: FutureWarning: Unlike other reduction functions (e.g. `skew`, `kurtosis`), the default behavior of `mode` typically preserves the axis it acts along. In SciPy 1.11.0, this behavior will change: the default value of `keepdims` will become False, the `axis` over which the statistic is taken will be eliminated, and the value None will no longer be accepted. Set `keepdims` to True or False to avoid this warning.\n",
      "  mode, _ = stats.mode(_y[neigh_ind, k], axis=1)\n"
     ]
    },
    {
     "data": {
      "text/plain": "0.9198352344740177"
     },
     "execution_count": 48,
     "metadata": {},
     "output_type": "execute_result"
    }
   ],
   "source": [
    "knn.score(X_train, y_train)"
   ],
   "metadata": {
    "collapsed": false
   }
  },
  {
   "cell_type": "markdown",
   "source": [
    "Confusion Matrix"
   ],
   "metadata": {
    "collapsed": false
   }
  },
  {
   "cell_type": "code",
   "execution_count": 49,
   "outputs": [],
   "source": [
    "from sklearn.metrics import confusion_matrix, ConfusionMatrixDisplay"
   ],
   "metadata": {
    "collapsed": false
   }
  },
  {
   "cell_type": "code",
   "execution_count": 50,
   "outputs": [
    {
     "name": "stderr",
     "output_type": "stream",
     "text": [
      "C:\\ProgramData\\Anaconda3\\lib\\site-packages\\sklearn\\neighbors\\_classification.py:228: FutureWarning: Unlike other reduction functions (e.g. `skew`, `kurtosis`), the default behavior of `mode` typically preserves the axis it acts along. In SciPy 1.11.0, this behavior will change: the default value of `keepdims` will become False, the `axis` over which the statistic is taken will be eliminated, and the value None will no longer be accepted. Set `keepdims` to True or False to avoid this warning.\n",
      "  mode, _ = stats.mode(_y[neigh_ind, k], axis=1)\n"
     ]
    },
    {
     "data": {
      "text/plain": "<Figure size 640x480 with 2 Axes>",
      "image/png": "[encoded data removed]"
     },
     "metadata": {},
     "output_type": "display_data"
    }
   ],
   "source": [
    "\n",
    "y_pred = knn.predict(X_test)\n",
    "\n",
    "# Create the confusion matrix\n",
    "cm = confusion_matrix(y_test, y_pred)\n",
    "ConfusionMatrixDisplay(confusion_matrix=cm).plot();"
   ],
   "metadata": {
    "collapsed": false
   }
  },
  {
   "cell_type": "code",
   "execution_count": 51,
   "outputs": [
    {
     "name": "stdout",
     "output_type": "stream",
     "text": [
      "              precision    recall  f1-score   support\n",
      "\n",
      "           0       0.88      0.91      0.90       614\n",
      "           1       0.87      0.83      0.85       439\n",
      "\n",
      "    accuracy                           0.88      1053\n",
      "   macro avg       0.88      0.87      0.87      1053\n",
      "weighted avg       0.88      0.88      0.88      1053\n",
      "\n"
     ]
    }
   ],
   "source": [
    "from sklearn.metrics import classification_report\n",
    "\n",
    "print(classification_report(y_test, y_pred))"
   ],
   "metadata": {
    "collapsed": false
   }
  },
  {
   "cell_type": "code",
   "execution_count": 52,
   "outputs": [
    {
     "name": "stdout",
     "output_type": "stream",
     "text": [
      "87.65432098765432\n"
     ]
    }
   ],
   "source": [
    "from sklearn.metrics import accuracy_score\n",
    "\n",
    "ac = accuracy_score(y_test,y_pred)\n",
    "print(ac*100)"
   ],
   "metadata": {
    "collapsed": false
   }
  },
  {
   "cell_type": "code",
   "execution_count": 24,
   "outputs": [],
   "source": [],
   "metadata": {
    "collapsed": false
   }
  }
 ],
 "metadata": {
  "kernelspec": {
   "display_name": "Python 3",
   "language": "python",
   "name": "python3"
  },
  "language_info": {
   "codemirror_mode": {
    "name": "ipython",
    "version": 2
   },
   "file_extension": ".py",
   "mimetype": "text/x-python",
   "name": "python",
   "nbconvert_exporter": "python",
   "pygments_lexer": "ipython2",
   "version": "2.7.6"
  }
 },
 "nbformat": 4,
 "nbformat_minor": 0
}
